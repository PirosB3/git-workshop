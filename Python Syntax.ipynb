{
 "cells": [
  {
   "cell_type": "markdown",
   "metadata": {},
   "source": [
    "# Hello Python"
   ]
  },
  {
   "cell_type": "markdown",
   "metadata": {},
   "source": [
    "This is as simple as it can get.."
   ]
  },
  {
   "cell_type": "code",
   "execution_count": 10,
   "metadata": {
    "collapsed": false
   },
   "outputs": [
    {
     "name": "stdout",
     "output_type": "stream",
     "text": [
      "Hello World!\n"
     ]
    }
   ],
   "source": [
    "print \"Hello World!\""
   ]
  },
  {
   "cell_type": "markdown",
   "metadata": {},
   "source": [
    "# Variables"
   ]
  },
  {
   "cell_type": "markdown",
   "metadata": {},
   "source": [
    "A name that is used to denote something or a value is called a variable. In python, variables can be declared and values can be assigned to it as follows,"
   ]
  },
  {
   "cell_type": "code",
   "execution_count": 12,
   "metadata": {
    "collapsed": false
   },
   "outputs": [
    {
     "name": "stdout",
     "output_type": "stream",
     "text": [
      "Hello Girls in Tech!!!\n",
      "7\n"
     ]
    }
   ],
   "source": [
    "x = 2\n",
    "y = 5\n",
    "print x + y"
   ]
  },
  {
   "cell_type": "markdown",
   "metadata": {},
   "source": [
    "# Python data types\n",
    "\n",
    "Python offers a great set of primitive types. First let's have a look at a few \"plain\" data structures, and then we can look at some data struture collections, such as a list, a set, and a dictionary\n",
    "\n"
   ]
  },
  {
   "cell_type": "markdown",
   "metadata": {},
   "source": [
    "### Strings"
   ]
  },
  {
   "cell_type": "code",
   "execution_count": 13,
   "metadata": {
    "collapsed": true
   },
   "outputs": [],
   "source": [
    "# This is a string\n",
    "audience = 'Girls in Tech'\n",
    "\n",
    "# This is a bigger string\n",
    "audience = \"\"\"\n",
    "Hello my name is Daniel Pyrathon\n",
    "and this is a longer string!\n",
    "\"\"\""
   ]
  },
  {
   "cell_type": "markdown",
   "metadata": {},
   "source": [
    "### Numbers"
   ]
  },
  {
   "cell_type": "code",
   "execution_count": 16,
   "metadata": {
    "collapsed": false
   },
   "outputs": [
    {
     "name": "stdout",
     "output_type": "stream",
     "text": [
      "2015 is <type 'int'>\n",
      "3.14159 is <type 'float'>\n"
     ]
    }
   ],
   "source": [
    "# This is an int\n",
    "year = 2015\n",
    "\n",
    "# This is a float\n",
    "pi = 3.14159\n",
    "\n",
    "# Strings can be easily converted to other types\n",
    "year = int(\"2015\")\n",
    "# If you are unsure of what type a variable is, just call type()\n",
    "print \"%s is %s\" % (year, type(year))\n",
    "print \"%s is %s\" % (pi, type(pi))"
   ]
  },
  {
   "cell_type": "markdown",
   "metadata": {},
   "source": [
    "### Booleans"
   ]
  },
  {
   "cell_type": "code",
   "execution_count": 23,
   "metadata": {
    "collapsed": false
   },
   "outputs": [
    {
     "name": "stdout",
     "output_type": "stream",
     "text": [
      "True\n",
      "True\n",
      "False\n",
      "False\n",
      "False\n"
     ]
    }
   ],
   "source": [
    "# This is a boolean\n",
    "my_bool = True\n",
    "\n",
    "# Everything in Python can be cast to Boolean\n",
    "\n",
    "# Most things convert to True\n",
    "print bool(\"This will return true\")\n",
    "print bool(120)\n",
    "\n",
    "# But some can also convert to False\n",
    "print bool(0)\n",
    "print bool(\"\")\n",
    "print bool(None)"
   ]
  },
  {
   "cell_type": "markdown",
   "metadata": {},
   "source": [
    "# Python data types colletions\n",
    "\n",
    "Python offers a great varity of data type collections"
   ]
  },
  {
   "cell_type": "markdown",
   "metadata": {},
   "source": [
    "### Lists"
   ]
  },
  {
   "cell_type": "code",
   "execution_count": 32,
   "metadata": {
    "collapsed": false
   },
   "outputs": [
    {
     "name": "stdout",
     "output_type": "stream",
     "text": [
      "[1, 2, 3, 4, 5]\n",
      "1\n",
      "[1, 2, 3, 4, 5, 6]\n"
     ]
    }
   ],
   "source": [
    "# Lists are growable arrays (similar to a C++ vector)\n",
    "# A comma-separated sequence of objects\n",
    "\n",
    "# A list of ints, and a list of strings\n",
    "list2 = [1, 2, 3, 4, 5 ];\n",
    "list3 = [\"a\", \"b\", \"c\", \"d\"];\n",
    "\n",
    "# A list does not necessarily need to contain the same type\n",
    "list1 = ['physics', 'chemistry', 1997, 2000];\n",
    "\n",
    "# Lists are printable, like everything in Python! they are also easily indexable\n",
    "print list2\n",
    "print list2[0]\n",
    "\n",
    "# \"Lists are dynamic and ordered, and therefore can grow over time\"\n",
    "list2.append(6)\n",
    "print list2\n",
    "\n"
   ]
  },
  {
   "cell_type": "markdown",
   "metadata": {},
   "source": [
    "### Basic List Operations\n",
    "\n",
    "| Python Expression        | Results\tDescription |\n",
    "| ------------- |:-------------:|\n",
    "| `len([1, 2, 3])`      | `3` |\n",
    "| `[1, 2, 3] + [4, 5, 6]`\t | `[1, 2, 3, 4, 5, 6]`      |\n",
    "| `3 in [1, 2, 3]` | `True`      |\n"
   ]
  },
  {
   "cell_type": "code",
   "execution_count": null,
   "metadata": {
    "collapsed": true
   },
   "outputs": [],
   "source": []
  }
 ],
 "metadata": {
  "kernelspec": {
   "display_name": "Python 2",
   "language": "python",
   "name": "python2"
  },
  "language_info": {
   "codemirror_mode": {
    "name": "ipython",
    "version": 2
   },
   "file_extension": ".py",
   "mimetype": "text/x-python",
   "name": "python",
   "nbconvert_exporter": "python",
   "pygments_lexer": "ipython2",
   "version": "2.7.8"
  }
 },
 "nbformat": 4,
 "nbformat_minor": 0
}
