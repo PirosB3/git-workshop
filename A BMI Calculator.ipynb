{
 "cells": [
  {
   "cell_type": "markdown",
   "metadata": {},
   "source": [
    "# Creating a BMI Calculator\n",
    "###  Your first exercise"
   ]
  },
  {
   "cell_type": "markdown",
   "metadata": {},
   "source": [
    "Body mass index (BMI) is a measure of body fat based on height and weight that applies to adult men and women. Enter your weight and height using standard or metric measures.\n",
    "\n",
    "#### English BMI Formula\n",
    "BMI = ( Weight in Pounds / ( Height in inches x Height in inches ) ) x 703"
   ]
  },
  {
   "cell_type": "code",
   "execution_count": 6,
   "metadata": {
    "collapsed": false
   },
   "outputs": [
    {
     "ename": "TypeError",
     "evalue": "int() argument must be a string or a number, not 'NoneType'",
     "output_type": "error",
     "traceback": [
      "\u001b[0;31m---------------------------------------------------------------------------\u001b[0m",
      "\u001b[0;31mTypeError\u001b[0m                                 Traceback (most recent call last)",
      "\u001b[0;32m<ipython-input-6-ee8d2ef295b5>\u001b[0m in \u001b[0;36m<module>\u001b[0;34m()\u001b[0m\n\u001b[1;32m      7\u001b[0m \u001b[0;31m# In order to avoid equality between floating points,\u001b[0m\u001b[0;34m\u001b[0m\u001b[0;34m\u001b[0m\u001b[0m\n\u001b[1;32m      8\u001b[0m \u001b[0;31m# let's convert to integer\u001b[0m\u001b[0;34m\u001b[0m\u001b[0;34m\u001b[0m\u001b[0m\n\u001b[0;32m----> 9\u001b[0;31m \u001b[0;32mif\u001b[0m \u001b[0mint\u001b[0m\u001b[0;34m(\u001b[0m\u001b[0mdaniels_bmi_result\u001b[0m\u001b[0;34m)\u001b[0m \u001b[0;34m==\u001b[0m \u001b[0;36m24\u001b[0m\u001b[0;34m:\u001b[0m\u001b[0;34m\u001b[0m\u001b[0m\n\u001b[0m\u001b[1;32m     10\u001b[0m     \u001b[0;32mprint\u001b[0m \u001b[0;34m\"Success! congratulations\"\u001b[0m\u001b[0;34m\u001b[0m\u001b[0m\n\u001b[1;32m     11\u001b[0m \u001b[0;32melse\u001b[0m\u001b[0;34m:\u001b[0m\u001b[0;34m\u001b[0m\u001b[0m\n",
      "\u001b[0;31mTypeError\u001b[0m: int() argument must be a string or a number, not 'NoneType'"
     ]
    }
   ],
   "source": [
    "def calculate_bmi(weight, height):\n",
    "    # Write your implementation here!\n",
    "    pass\n",
    "\n",
    "\n",
    "daniels_bmi_result = calculate_bmi(165.0, 69.0)\n",
    "# In order to avoid equality between floating points,\n",
    "# let's convert to integer\n",
    "if int(daniels_bmi_result) == 24:\n",
    "    print \"Success! congratulations\"\n",
    "else:\n",
    "    print \"Try again! you can do it!!\""
   ]
  },
  {
   "cell_type": "markdown",
   "metadata": {},
   "source": [
    "Let's now provide even better feedback to the user!\n",
    "\n",
    "### BMI feedback rules\n",
    " - if BMI is less or equals to 18.5, your weight status is Underweight\n",
    " - if BMI is between 18.5 and 24.9, you have normal weight\n",
    " - if BMI is between 25 and 29.9, your weight status is overweight\n",
    " - If your weight is bigger than 29.9, your weight status is obese."
   ]
  },
  {
   "cell_type": "code",
   "execution_count": 7,
   "metadata": {
    "collapsed": false
   },
   "outputs": [
    {
     "name": "stdout",
     "output_type": "stream",
     "text": [
      "My weight status for 24 is: None\n"
     ]
    }
   ],
   "source": [
    "def print_feedback_on_bmi(bmi):\n",
    "    # Write your implementation here!\n",
    "    pass\n",
    "\n",
    "my_bmi = 24\n",
    "print \"My weight status for %s is: %s\" % (my_bmi, print_feedback_on_bmi(my_bmi))"
   ]
  },
  {
   "cell_type": "code",
   "execution_count": null,
   "metadata": {
    "collapsed": true
   },
   "outputs": [],
   "source": []
  }
 ],
 "metadata": {
  "kernelspec": {
   "display_name": "Python 2",
   "language": "python",
   "name": "python2"
  },
  "language_info": {
   "codemirror_mode": {
    "name": "ipython",
    "version": 2
   },
   "file_extension": ".py",
   "mimetype": "text/x-python",
   "name": "python",
   "nbconvert_exporter": "python",
   "pygments_lexer": "ipython2",
   "version": "2.7.8"
  }
 },
 "nbformat": 4,
 "nbformat_minor": 0
}
