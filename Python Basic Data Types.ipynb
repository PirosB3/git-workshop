{
 "cells": [
  {
   "cell_type": "markdown",
   "metadata": {},
   "source": [
    "# Hello Python"
   ]
  },
  {
   "cell_type": "markdown",
   "metadata": {},
   "source": [
    "This is as simple as it can get.."
   ]
  },
  {
   "cell_type": "code",
   "execution_count": 10,
   "metadata": {
    "collapsed": false
   },
   "outputs": [
    {
     "name": "stdout",
     "output_type": "stream",
     "text": [
      "Hello World!\n"
     ]
    }
   ],
   "source": [
    "print \"Hello World!\""
   ]
  },
  {
   "cell_type": "markdown",
   "metadata": {},
   "source": [
    "# Variables"
   ]
  },
  {
   "cell_type": "markdown",
   "metadata": {},
   "source": [
    "A name that is used to denote something or a value is called a variable. In python, variables can be declared and values can be assigned to it as follows,"
   ]
  },
  {
   "cell_type": "code",
   "execution_count": 12,
   "metadata": {
    "collapsed": false
   },
   "outputs": [
    {
     "name": "stdout",
     "output_type": "stream",
     "text": [
      "Hello Girls in Tech!!!\n",
      "7\n"
     ]
    }
   ],
   "source": [
    "x = 2\n",
    "y = 5\n",
    "print x + y"
   ]
  },
  {
   "cell_type": "markdown",
   "metadata": {},
   "source": [
    "# Python data types\n",
    "\n",
    "Python offers a great set of primitive types. First let's have a look at a few \"plain\" data structures, and then we can look at some data struture collections, such as a list, a set, and a dictionary\n",
    "\n"
   ]
  },
  {
   "cell_type": "markdown",
   "metadata": {},
   "source": [
    "### Strings"
   ]
  },
  {
   "cell_type": "code",
   "execution_count": 13,
   "metadata": {
    "collapsed": true
   },
   "outputs": [],
   "source": [
    "# This is a string\n",
    "audience = 'Girls in Tech'\n",
    "\n",
    "# This is a bigger string\n",
    "audience = \"\"\"\n",
    "Hello my name is Daniel Pyrathon\n",
    "and this is a longer string!\n",
    "\"\"\""
   ]
  },
  {
   "cell_type": "markdown",
   "metadata": {},
   "source": [
    "### Numbers"
   ]
  },
  {
   "cell_type": "code",
   "execution_count": 16,
   "metadata": {
    "collapsed": false
   },
   "outputs": [
    {
     "name": "stdout",
     "output_type": "stream",
     "text": [
      "2015 is <type 'int'>\n",
      "3.14159 is <type 'float'>\n"
     ]
    }
   ],
   "source": [
    "# This is an int\n",
    "year = 2015\n",
    "\n",
    "# This is a float\n",
    "pi = 3.14159\n",
    "\n",
    "# Strings can be easily converted to other types\n",
    "year = int(\"2015\")\n",
    "# If you are unsure of what type a variable is, just call type()\n",
    "print \"%s is %s\" % (year, type(year))\n",
    "print \"%s is %s\" % (pi, type(pi))"
   ]
  },
  {
   "cell_type": "markdown",
   "metadata": {},
   "source": [
    "### Booleans"
   ]
  },
  {
   "cell_type": "code",
   "execution_count": 23,
   "metadata": {
    "collapsed": false
   },
   "outputs": [
    {
     "name": "stdout",
     "output_type": "stream",
     "text": [
      "True\n",
      "True\n",
      "False\n",
      "False\n",
      "False\n"
     ]
    }
   ],
   "source": [
    "# This is a boolean\n",
    "my_bool = True\n",
    "\n",
    "# Everything in Python can be cast to Boolean\n",
    "\n",
    "# Most things convert to True\n",
    "print bool(\"This will return true\")\n",
    "print bool(120)\n",
    "\n",
    "# But some can also convert to False\n",
    "print bool(0)\n",
    "print bool(\"\")\n",
    "print bool(None)"
   ]
  },
  {
   "cell_type": "markdown",
   "metadata": {},
   "source": [
    "# Python data types colletions\n",
    "\n",
    "Python offers a great varity of data type collections"
   ]
  },
  {
   "cell_type": "markdown",
   "metadata": {},
   "source": [
    "### Lists\n",
    "\n",
    "Lists are an ordered sequence of objects.\n",
    "\n",
    "##### Example use cases\n",
    " - Instructions for a recipe\n",
    " - A list of friends to contact\n",
    " - A list of transactions of a bank statement"
   ]
  },
  {
   "cell_type": "code",
   "execution_count": 45,
   "metadata": {
    "collapsed": false
   },
   "outputs": [
    {
     "name": "stdout",
     "output_type": "stream",
     "text": [
      "[1, 2, 3, 4, 5]\n",
      "1\n",
      "[1, 2, 3, 4, 5, 6]\n",
      "[0, 1, 2]\n"
     ]
    }
   ],
   "source": [
    "# Lists are growable arrays (similar to a C++ vector)\n",
    "# A comma-separated sequence of objects\n",
    "\n",
    "# A list of ints, and a list of strings\n",
    "list2 = [1, 2, 3, 4, 5 ];\n",
    "list3 = [\"a\", \"b\", \"c\", \"d\"];\n",
    "\n",
    "# A list does not necessarily need to contain the same type\n",
    "list1 = ['physics', 'chemistry', 1997, 2000];\n",
    "\n",
    "# Lists are printable, like everything in Python! they are also easily indexable\n",
    "print list2\n",
    "print list2[0]\n",
    "\n",
    "# \"Lists are dynamic and ordered, and therefore can grow over time\"\n",
    "list2.append(6)\n",
    "print list2\n",
    "\n",
    "# range() can be used to generate a list of numbers from 0 to N-1\n",
    "print range(3)\n"
   ]
  },
  {
   "cell_type": "markdown",
   "metadata": {},
   "source": [
    "### Basic List Operations\n",
    "\n",
    "| Python Expression        | Results\tDescription |\n",
    "| ------------- |:-------------:|\n",
    "| `len([1, 2, 3])`      | `3` |\n",
    "| `[1, 2, 3] + [4, 5, 6]`\t | `[1, 2, 3, 4, 5, 6]`      |\n",
    "| `3 in [1, 2, 3]` | `True`      |\n"
   ]
  },
  {
   "cell_type": "markdown",
   "metadata": {},
   "source": [
    "### Dictionaries\n",
    "Dictionaries store information in key-value pairs.\n",
    "\n",
    "##### Example use cases\n",
    " - A phone book\n",
    " - Tabular data (unordered)"
   ]
  },
  {
   "cell_type": "code",
   "execution_count": 38,
   "metadata": {
    "collapsed": false
   },
   "outputs": [
    {
     "name": "stdout",
     "output_type": "stream",
     "text": [
      "{'Daniel Pyrathon': '415-528-9529', 'Social Security Downtown': '800-772-1213'}\n",
      "{'Daniel Pyrathon': '415-528-9529', 'Jacob Ethan': '429-500-9129', 'Social Security Downtown': '800-772-1213'}\n"
     ]
    }
   ],
   "source": [
    "my_phone_book = {\n",
    "    \"Daniel Pyrathon\" : \"415-528-9529\",\n",
    "    \"Social Security Downtown\": \"800-772-1213\"\n",
    "}\n",
    "\n",
    "# Dictionaries are printable, like everything in Python!\n",
    "print my_phone_book\n",
    "\n",
    "# Dictionaries are mutable, and new key/value pairs can be added\n",
    "my_phone_book[\"Jacob Ethan\"] =  \"429-500-9129\"\n",
    "print my_phone_book"
   ]
  },
  {
   "cell_type": "code",
   "execution_count": 39,
   "metadata": {
    "collapsed": false
   },
   "outputs": [
    {
     "ename": "KeyError",
     "evalue": "'Lorem Ipsum'",
     "output_type": "error",
     "traceback": [
      "\u001b[0;31m---------------------------------------------------------------------------\u001b[0m",
      "\u001b[0;31mKeyError\u001b[0m                                  Traceback (most recent call last)",
      "\u001b[0;32m<ipython-input-39-082740ea7d24>\u001b[0m in \u001b[0;36m<module>\u001b[0;34m()\u001b[0m\n\u001b[1;32m      1\u001b[0m \u001b[0;31m# A KeyError is raised if the value you are searching from does not exist\u001b[0m\u001b[0;34m\u001b[0m\u001b[0;34m\u001b[0m\u001b[0m\n\u001b[0;32m----> 2\u001b[0;31m \u001b[0;32mprint\u001b[0m \u001b[0mmy_phone_book\u001b[0m\u001b[0;34m[\u001b[0m\u001b[0;34m\"Lorem Ipsum\"\u001b[0m\u001b[0;34m]\u001b[0m\u001b[0;34m\u001b[0m\u001b[0m\n\u001b[0m",
      "\u001b[0;31mKeyError\u001b[0m: 'Lorem Ipsum'"
     ]
    }
   ],
   "source": [
    "# A KeyError is raised if the value you are searching from does not exist\n",
    "print my_phone_book[\"Lorem Ipsum\"]"
   ]
  },
  {
   "cell_type": "code",
   "execution_count": 44,
   "metadata": {
    "collapsed": false
   },
   "outputs": [
    {
     "name": "stdout",
     "output_type": "stream",
     "text": [
      "['Daniel Pyrathon', 'Jacob Ethan', 'Social Security Downtown']\n",
      "True\n",
      "False\n"
     ]
    }
   ],
   "source": [
    "# ... but we can easily see all the keys in the system using the .keys() method\n",
    "print my_phone_book.keys()\n",
    "\n",
    "print \"Daniel Pyrathon\" in  my_phone_book.keys()\n",
    "print \"Lorem Ipsum\" in  my_phone_book.keys()"
   ]
  },
  {
   "cell_type": "markdown",
   "metadata": {},
   "source": [
    "### Basic Dictionary operations Operations\n",
    "\n",
    "| Python Expression        | Results\tDescription |\n",
    "| ------------- |:-------------:|\n",
    "| `my_phone_book.keys()`      | `['Daniel Pyrathon', 'Jacob Ethan', 'Social Security Downtown']` |\n",
    "| `my_phone_book.values()`\t | `['415-528-9529', '429-500-9129', '800-772-1213']`      |"
   ]
  },
  {
   "cell_type": "code",
   "execution_count": null,
   "metadata": {
    "collapsed": true
   },
   "outputs": [],
   "source": []
  }
 ],
 "metadata": {
  "kernelspec": {
   "display_name": "Python 2",
   "language": "python",
   "name": "python2"
  },
  "language_info": {
   "codemirror_mode": {
    "name": "ipython",
    "version": 2
   },
   "file_extension": ".py",
   "mimetype": "text/x-python",
   "name": "python",
   "nbconvert_exporter": "python",
   "pygments_lexer": "ipython2",
   "version": "2.7.8"
  }
 },
 "nbformat": 4,
 "nbformat_minor": 0
}
